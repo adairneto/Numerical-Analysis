{
 "cells": [
  {
   "cell_type": "code",
   "execution_count": 5,
   "id": "9eb97e0d-c45e-468c-9b68-0a7ad5997189",
   "metadata": {},
   "outputs": [],
   "source": [
    "function y = prog_euler(fun,xbar,x0,y0,h)\n",
    "% Método de Euler Explícito\n",
    "    while x0 < xbar\n",
    "        y = y0+h*fun(x0,y0);\n",
    "        y0 = y;\n",
    "        x0 = x0+h;\n",
    "    end\n",
    "end"
   ]
  },
  {
   "cell_type": "code",
   "execution_count": 9,
   "id": "fa718496-76c4-447d-9c7e-6c00923b4065",
   "metadata": {},
   "outputs": [
    {
     "name": "stdout",
     "output_type": "stream",
     "text": [
      "ans = -11.642\n"
     ]
    }
   ],
   "source": [
    "fun = @(x,y) y + cos(y) - x;\n",
    "xbar = 5;\n",
    "x0 = 1;\n",
    "y0 = 2;\n",
    "h = 0.02;\n",
    "prog_euler(fun,xbar,x0,y0,h)"
   ]
  },
  {
   "cell_type": "code",
   "execution_count": 4,
   "id": "bd914a15-1f42-4246-ac2b-950b0c9064ea",
   "metadata": {},
   "outputs": [],
   "source": [
    "function y = back_euler(fun,xbar,x0,y0,h)\n",
    "% Método de Euler Implícito\n",
    "    while x0 < xbar\n",
    "        y = y0 + h * fun(x0+h,y0+h); % Errado\n",
    "        y0 = y;\n",
    "        x0 = x0+h;\n",
    "    end\n",
    "end"
   ]
  },
  {
   "cell_type": "code",
   "execution_count": 5,
   "id": "2f49d292-f4d1-4539-93cd-8467ca1de1ee",
   "metadata": {},
   "outputs": [
    {
     "name": "stdout",
     "output_type": "stream",
     "text": [
      "ans = -11.917\n"
     ]
    }
   ],
   "source": [
    "fun = @(x,y) y + cos(y) - x;\n",
    "xbar = 5;\n",
    "x0 = 1;\n",
    "y0 = 2;\n",
    "h = 0.02;\n",
    "back_euler(fun,xbar,x0,y0,h)"
   ]
  },
  {
   "cell_type": "markdown",
   "id": "738896d6-927b-43c0-bd56-b4d4c81bb35a",
   "metadata": {},
   "source": [
    "## Método do Ponto Fixo"
   ]
  },
  {
   "cell_type": "code",
   "execution_count": 3,
   "id": "a0f40c7d-710b-4ee0-bef3-3d078dc47444",
   "metadata": {},
   "outputs": [],
   "source": [
    "function raiz = pontofixo2(phi, x_0, epsilon)\n",
    "\n",
    "% Inicializamos\n",
    "k = 0;\n",
    "error = epsilon + 1;\n",
    "\n",
    "if abs(phi(x_0)) < epsilon\n",
    "    raiz = x_0;\n",
    "else\n",
    "    while (abs(phi(x_0)) >= epsilon) && (abs(error) >= epsilon)\n",
    "        k = k+1;\n",
    "        x = phi(x_0);\n",
    "        error = abs(x - x_0);\n",
    "        x_0 = x;\n",
    "    end\n",
    "end\n",
    "raiz = x;\n",
    "end"
   ]
  },
  {
   "cell_type": "code",
   "execution_count": 21,
   "id": "49d5048e-14c3-45ce-b149-760caa5d3db4",
   "metadata": {},
   "outputs": [],
   "source": [
    "function y = back_euler(fun,xbar,x0,y0,h,epsilon)\n",
    "% Método de Euler Implícito\n",
    "    while x0 < xbar\n",
    "        % Inicializar y_1 e guardar\n",
    "        phi = y0 + h * fun(x0+h,y0);\n",
    "        y = pontofixo2(phi,x0,epsilon);\n",
    "        y0 = y;\n",
    "        x0 = x0+h;\n",
    "    end\n",
    "end"
   ]
  },
  {
   "cell_type": "code",
   "execution_count": 22,
   "id": "c1a5c9e4-d17a-40bb-88c7-f210bdc6c93b",
   "metadata": {},
   "outputs": [
    {
     "name": "stdout",
     "output_type": "stream",
     "text": [
      "error: phi(2.01128): subscripts must be either integers 1 to (2^63)-1 or logicals\n",
      "error: called from\n",
      "    pontofixo2 at line 14 column 13\n",
      "    back_euler at line 6 column 11\n"
     ]
    }
   ],
   "source": [
    "fun = @(x,y) y + cos(y) - x;\n",
    "xbar = 5;\n",
    "x0 = 1;\n",
    "y0 = 2;\n",
    "h = 0.02;\n",
    "back_euler(fun,xbar,x0,y0,h,0.005)"
   ]
  },
  {
   "cell_type": "code",
   "execution_count": null,
   "id": "728c17e9-dcfc-4592-a34a-c0ac5aeddd3b",
   "metadata": {},
   "outputs": [],
   "source": []
  }
 ],
 "metadata": {
  "kernelspec": {
   "display_name": "Octave",
   "language": "octave",
   "name": "octave"
  },
  "language_info": {
   "file_extension": ".m",
   "help_links": [
    {
     "text": "GNU Octave",
     "url": "https://www.gnu.org/software/octave/support.html"
    },
    {
     "text": "Octave Kernel",
     "url": "https://github.com/Calysto/octave_kernel"
    },
    {
     "text": "MetaKernel Magics",
     "url": "https://metakernel.readthedocs.io/en/latest/source/README.html"
    }
   ],
   "mimetype": "text/x-octave",
   "name": "octave",
   "version": "6.3.0"
  }
 },
 "nbformat": 4,
 "nbformat_minor": 5
}
