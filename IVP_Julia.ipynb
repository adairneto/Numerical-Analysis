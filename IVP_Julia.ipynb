{
 "cells": [
  {
   "cell_type": "markdown",
   "id": "69afb5a1-9ef7-46d7-945e-93a3e941220f",
   "metadata": {},
   "source": [
    "# Numerical Methods - Initial Value Problem\n",
    "\n",
    "## Progressive Euler"
   ]
  },
  {
   "cell_type": "code",
   "execution_count": 28,
   "id": "174c5775-bb7d-4388-ae85-2d52e4a72437",
   "metadata": {},
   "outputs": [
    {
     "data": {
      "text/plain": [
       "prog_euler (generic function with 1 method)"
      ]
     },
     "execution_count": 28,
     "metadata": {},
     "output_type": "execute_result"
    }
   ],
   "source": [
    "function prog_euler(fun,xbar,x0,y0,h)\n",
    "    local y;\n",
    "    while x0 < xbar\n",
    "        y = y0+h*fun(x0,y0);\n",
    "        y0 = y;\n",
    "        x0 = x0+h;\n",
    "    end\n",
    "return y;\n",
    "end"
   ]
  },
  {
   "cell_type": "code",
   "execution_count": 29,
   "id": "31005b93-ee58-41e6-a945-a10bde36b755",
   "metadata": {},
   "outputs": [],
   "source": [
    "fun(x,y) = y + cos(y) - x;\n",
    "xbar = 5;\n",
    "x0 = 1;\n",
    "y0 = 2;\n",
    "h = 0.02;"
   ]
  },
  {
   "cell_type": "code",
   "execution_count": 32,
   "id": "6a18e9e2-a393-4b91-b537-eaa8bf28b40e",
   "metadata": {},
   "outputs": [
    {
     "data": {
      "text/plain": [
       "-11.642239743320681"
      ]
     },
     "execution_count": 32,
     "metadata": {},
     "output_type": "execute_result"
    }
   ],
   "source": [
    "prog_euler(fun,xbar,x0,y0,h)"
   ]
  },
  {
   "cell_type": "code",
   "execution_count": 34,
   "id": "0ca7a320-af03-43fc-949b-d2fada349f0f",
   "metadata": {},
   "outputs": [
    {
     "data": {
      "text/plain": [
       "2.0"
      ]
     },
     "execution_count": 34,
     "metadata": {},
     "output_type": "execute_result"
    }
   ],
   "source": [
    "fun(x,y)=1-y/x;\n",
    "xbar = 2.1;\n",
    "x0 = 2;\n",
    "y0 = 2;\n",
    "h = 0.1;\n",
    "prog_euler(fun,xbar,x0,y0,h)"
   ]
  },
  {
   "cell_type": "code",
   "execution_count": 35,
   "id": "5d3cb137-9d89-4cb6-9731-bcf71a1cfbb6",
   "metadata": {},
   "outputs": [
    {
     "data": {
      "text/plain": [
       "1040.0"
      ]
     },
     "execution_count": 35,
     "metadata": {},
     "output_type": "execute_result"
    }
   ],
   "source": [
    "fun(x,y)=0.04*y;\n",
    "xbar = 1;\n",
    "x0 = 0;\n",
    "y0 = 1000;\n",
    "h = 1;\n",
    "prog_euler(fun,xbar,x0,y0,h)"
   ]
  },
  {
   "cell_type": "code",
   "execution_count": 36,
   "id": "ee10474e-fcd4-4994-99af-b5834f3d17d8",
   "metadata": {},
   "outputs": [
    {
     "data": {
      "text/plain": [
       "1040.4"
      ]
     },
     "execution_count": 36,
     "metadata": {},
     "output_type": "execute_result"
    }
   ],
   "source": [
    "h = 0.5\n",
    "prog_euler(fun,xbar,x0,y0,h)"
   ]
  },
  {
   "cell_type": "code",
   "execution_count": 37,
   "id": "00d0cbcd-5eb0-4f05-9b21-47b164f046fd",
   "metadata": {},
   "outputs": [
    {
     "data": {
      "text/plain": [
       "1040.60401"
      ]
     },
     "execution_count": 37,
     "metadata": {},
     "output_type": "execute_result"
    }
   ],
   "source": [
    "h = 0.25;\n",
    "prog_euler(fun,xbar,x0,y0,h)"
   ]
  },
  {
   "cell_type": "code",
   "execution_count": 38,
   "id": "b80154fd-3e7c-4d91-843b-ee26221a5d38",
   "metadata": {},
   "outputs": [
    {
     "data": {
      "text/plain": [
       "1044.8906449549856"
      ]
     },
     "execution_count": 38,
     "metadata": {},
     "output_type": "execute_result"
    }
   ],
   "source": [
    "h = 0.1;\n",
    "prog_euler(fun,xbar,x0,y0,h)"
   ]
  },
  {
   "cell_type": "markdown",
   "id": "0f1a6746-854d-40ef-8f1a-58d6e5c5d9e3",
   "metadata": {},
   "source": [
    "## Heun's Method"
   ]
  },
  {
   "cell_type": "code",
   "execution_count": 11,
   "id": "125b490a-9412-4338-9638-ed14e7192e52",
   "metadata": {},
   "outputs": [
    {
     "data": {
      "text/plain": [
       "heun (generic function with 1 method)"
      ]
     },
     "execution_count": 11,
     "metadata": {},
     "output_type": "execute_result"
    }
   ],
   "source": [
    "function heun(fun,xbar,x0,y0,h)\n",
    "    local y;\n",
    "    while x0 < xbar\n",
    "        y = y0+(h/2)*(fun(x0,y0)+fun(x0+h,y0+h*fun(x0,y0)));\n",
    "        y0 = y;\n",
    "        x0 = x0+h;\n",
    "    end\n",
    "return y;\n",
    "end"
   ]
  },
  {
   "cell_type": "code",
   "execution_count": 12,
   "id": "1e497866-759d-4939-b2cc-152793bd8693",
   "metadata": {},
   "outputs": [
    {
     "data": {
      "text/plain": [
       "1040.8"
      ]
     },
     "execution_count": 12,
     "metadata": {},
     "output_type": "execute_result"
    }
   ],
   "source": [
    "fun(x,y)=0.04*y;\n",
    "xbar = 1;\n",
    "x0 = 0;\n",
    "y0 = 1000;\n",
    "h = 1;\n",
    "heun(fun,xbar,x0,y0,h)"
   ]
  },
  {
   "cell_type": "code",
   "execution_count": 13,
   "id": "dbc1397d-d03d-4dab-bfee-fe0dee0703ce",
   "metadata": {},
   "outputs": [
    {
     "data": {
      "text/plain": [
       "1040.8080400000001"
      ]
     },
     "execution_count": 13,
     "metadata": {},
     "output_type": "execute_result"
    }
   ],
   "source": [
    "fun(x,y)=0.04*y;\n",
    "xbar = 1;\n",
    "x0 = 0;\n",
    "y0 = 1000;\n",
    "h = 0.5\n",
    "heun(fun,xbar,x0,y0,h)"
   ]
  },
  {
   "cell_type": "code",
   "execution_count": 14,
   "id": "fadfba9b-ef0e-457e-9a7f-7d092926035f",
   "metadata": {},
   "outputs": [
    {
     "data": {
      "text/plain": [
       "1040.810085502005"
      ]
     },
     "execution_count": 14,
     "metadata": {},
     "output_type": "execute_result"
    }
   ],
   "source": [
    "fun(x,y)=0.04*y;\n",
    "xbar = 1;\n",
    "x0 = 0;\n",
    "y0 = 1000;\n",
    "h = 0.25;\n",
    "heun(fun,xbar,x0,y0,h)"
   ]
  },
  {
   "cell_type": "code",
   "execution_count": 18,
   "id": "1f31a6c7-da26-4556-be0a-e1d44c975499",
   "metadata": {},
   "outputs": [
    {
     "data": {
      "text/plain": [
       "1044.9822326444335"
      ]
     },
     "execution_count": 18,
     "metadata": {},
     "output_type": "execute_result"
    }
   ],
   "source": [
    "fun(x,y)=0.04*y;\n",
    "xbar = 1;\n",
    "x0 = 0;\n",
    "y0 = 1000;\n",
    "h = 0.1;\n",
    "heun(fun,xbar,x0,y0,h)"
   ]
  },
  {
   "cell_type": "code",
   "execution_count": null,
   "id": "06a36606-5d5d-49cf-b380-7c493facd99b",
   "metadata": {},
   "outputs": [],
   "source": []
  }
 ],
 "metadata": {
  "kernelspec": {
   "display_name": "Julia 1.6.3",
   "language": "julia",
   "name": "julia-1.6"
  },
  "language_info": {
   "file_extension": ".jl",
   "mimetype": "application/julia",
   "name": "julia",
   "version": "1.6.3"
  }
 },
 "nbformat": 4,
 "nbformat_minor": 5
}
