{
 "cells": [
  {
   "cell_type": "markdown",
   "id": "ffa13c1b-0ebb-427a-81ee-f883d310daf5",
   "metadata": {},
   "source": [
    "# Numerical Methods - Non Linear Systems"
   ]
  },
  {
   "cell_type": "markdown",
   "id": "d834d663-db83-480d-9205-e68a5aff3e5b",
   "metadata": {},
   "source": [
    "## Plotting the functions"
   ]
  },
  {
   "cell_type": "code",
   "execution_count": 28,
   "id": "d76c3ee7-eb03-4fdc-958d-e136473bacfe",
   "metadata": {},
   "outputs": [
    {
     "ename": "LoadError",
     "evalue": "InitError: PyError (PyImport_ImportModule\n\nThe Python package matplotlib could not be imported by pyimport. Usually this means\nthat you did not install matplotlib in the Python version being used by PyCall.\n\nPyCall is currently configured to use the Python version at:\n\n/usr/bin/python3\n\nand you should use whatever mechanism you usually use (apt-get, pip, conda,\netcetera) to install the Python package containing the matplotlib module.\n\nOne alternative is to re-configure PyCall to use a different Python\nversion on your system: set ENV[\"PYTHON\"] to the path/name of the python\nexecutable you want to use, run Pkg.build(\"PyCall\"), and re-launch Julia.\n\nAnother alternative is to configure PyCall to use a Julia-specific Python\ndistribution via the Conda.jl package (which installs a private Anaconda\nPython distribution), which has the advantage that packages can be installed\nand kept up-to-date via Julia.  As explained in the PyCall documentation,\nset ENV[\"PYTHON\"]=\"\", run Pkg.build(\"PyCall\"), and re-launch Julia. Then,\nTo install the matplotlib module, you can use `pyimport_conda(\"matplotlib\", PKG)`,\nwhere PKG is the Anaconda package that contains the module matplotlib,\nor alternatively you can use the Conda package directly (via\n`using Conda` followed by `Conda.add` etcetera).\n\n) <class 'ModuleNotFoundError'>\nModuleNotFoundError(\"No module named 'matplotlib'\")\n\nduring initialization of module PyPlot",
     "output_type": "error",
     "traceback": [
      "InitError: PyError (PyImport_ImportModule\n\nThe Python package matplotlib could not be imported by pyimport. Usually this means\nthat you did not install matplotlib in the Python version being used by PyCall.\n\nPyCall is currently configured to use the Python version at:\n\n/usr/bin/python3\n\nand you should use whatever mechanism you usually use (apt-get, pip, conda,\netcetera) to install the Python package containing the matplotlib module.\n\nOne alternative is to re-configure PyCall to use a different Python\nversion on your system: set ENV[\"PYTHON\"] to the path/name of the python\nexecutable you want to use, run Pkg.build(\"PyCall\"), and re-launch Julia.\n\nAnother alternative is to configure PyCall to use a Julia-specific Python\ndistribution via the Conda.jl package (which installs a private Anaconda\nPython distribution), which has the advantage that packages can be installed\nand kept up-to-date via Julia.  As explained in the PyCall documentation,\nset ENV[\"PYTHON\"]=\"\", run Pkg.build(\"PyCall\"), and re-launch Julia. Then,\nTo install the matplotlib module, you can use `pyimport_conda(\"matplotlib\", PKG)`,\nwhere PKG is the Anaconda package that contains the module matplotlib,\nor alternatively you can use the Conda package directly (via\n`using Conda` followed by `Conda.add` etcetera).\n\n) <class 'ModuleNotFoundError'>\nModuleNotFoundError(\"No module named 'matplotlib'\")\n\nduring initialization of module PyPlot",
      "",
      "Stacktrace:",
      "  [1] pyimport(name::String)",
      "    @ PyCall ~/.julia/packages/PyCall/BD546/src/PyCall.jl:550",
      "  [2] pyimport_conda(modulename::String, condapkg::String, channel::String)",
      "    @ PyCall ~/.julia/packages/PyCall/BD546/src/PyCall.jl:708",
      "  [3] pyimport_conda",
      "    @ ~/.julia/packages/PyCall/BD546/src/PyCall.jl:707 [inlined]",
      "  [4] __init__()",
      "    @ PyPlot ~/.julia/packages/PyPlot/XaELc/src/init.jl:185",
      "  [5] _include_from_serialized(path::String, depmods::Vector{Any})",
      "    @ Base ./loading.jl:696",
      "  [6] _require_search_from_serialized(pkg::Base.PkgId, sourcepath::String)",
      "    @ Base ./loading.jl:782",
      "  [7] _require(pkg::Base.PkgId)",
      "    @ Base ./loading.jl:1020",
      "  [8] require(uuidkey::Base.PkgId)",
      "    @ Base ./loading.jl:936",
      "  [9] require(into::Module, mod::Symbol)",
      "    @ Base ./loading.jl:923",
      " [10] eval",
      "    @ ./boot.jl:360 [inlined]",
      " [11] include_string(mapexpr::typeof(REPL.softscope), mod::Module, code::String, filename::String)",
      "    @ Base ./loading.jl:1116"
     ]
    }
   ],
   "source": [
    "# import Pkg\n",
    "# Pkg.add(\"Plots\")\n",
    "# Pkg.add(\"PyPlot\")\n",
    "using Plots\n",
    "using PyPlot\n",
    "Plots.pyplot()\n",
    "\n",
    "f1(x1,x2) = x1^2 + x2^2 - 2;\n",
    "f2(x1,x2) = x1^2 + (x2^2)/9 - 1;\n",
    "\n",
    "\n",
    "plot(x1^2 + x2^2 - 2);"
   ]
  },
  {
   "cell_type": "markdown",
   "id": "ca9a848f-5b41-42a3-976f-040a48abe08e",
   "metadata": {},
   "source": [
    "## Newton's Method"
   ]
  },
  {
   "cell_type": "code",
   "execution_count": 31,
   "id": "50c4f6c8-81c2-43a4-a357-a2f0d21f9934",
   "metadata": {},
   "outputs": [
    {
     "data": {
      "text/plain": [
       "nonlinear_newton (generic function with 1 method)"
      ]
     },
     "execution_count": 31,
     "metadata": {},
     "output_type": "execute_result"
    }
   ],
   "source": [
    "using LinearAlgebra\n",
    "\n",
    "function nonlinear_newton(F,J,x_k,delta,epsilon)\n",
    "\n",
    "# Entrada:\n",
    "# F(x,y) = [x+y-3; x^2 + y^2 - 9]\n",
    "# J(x,y) = [1, 1; 2*x, 2*y]\n",
    "# x_k = [1;5]\n",
    "\n",
    "size(F) = [row, column];\n",
    "\n",
    "# Primeiro passo: computar F(x_k) e a J(x_k)\n",
    "Fk = F(x_k);\n",
    "Jk = J(x_k); # é x_k mesmo?\n",
    "\n",
    "# se norma de f(x_k) < delta então x_k é output, fim\n",
    "if norm(Fk,Inf) < delta\n",
    "    x = x_k;\n",
    "    return\n",
    "else\n",
    "# senão, resolve J(x_k)s_k = -F(x_k) e obtem x_{k+1} = x_k + s_k\n",
    "    s_k = gausselimintationpivot(Jk, -Fk, row);\n",
    "    x_k = x_k + s_k;\n",
    "    # se norma de s_k < epsilon, então x_k+1 é output e fim\n",
    "    if norm(s_k,Inf) < epsilon\n",
    "        x = x_k;\n",
    "        return\n",
    "    # senão, k=k+1 e faz novamente\n",
    "    else\n",
    "       k = k+1;\n",
    "       x = nonlinear_newton(Fk,x_k,delta,epsilon);\n",
    "    end\n",
    "end\n",
    "return x;\n",
    "end"
   ]
  },
  {
   "cell_type": "code",
   "execution_count": 59,
   "id": "85ea9199-e596-4cdb-87f4-e433ad2e1a29",
   "metadata": {},
   "outputs": [
    {
     "ename": "LoadError",
     "evalue": "MethodError: no method matching F(::Vector{Int64})\n\u001b[0mClosest candidates are:\n\u001b[0m  F(::Any, \u001b[91m::Any\u001b[39m) at In[59]:1",
     "output_type": "error",
     "traceback": [
      "MethodError: no method matching F(::Vector{Int64})\n\u001b[0mClosest candidates are:\n\u001b[0m  F(::Any, \u001b[91m::Any\u001b[39m) at In[59]:1",
      "",
      "Stacktrace:",
      " [1] nonlinear_newton(F::typeof(F), J::typeof(J), x_k::Vector{Int64}, delta::Float64, epsilon::Float64)",
      "   @ Main ./In[31]:13",
      " [2] top-level scope",
      "   @ In[59]:7",
      " [3] eval",
      "   @ ./boot.jl:360 [inlined]",
      " [4] include_string(mapexpr::typeof(REPL.softscope), mod::Module, code::String, filename::String)",
      "   @ Base ./loading.jl:1116"
     ]
    }
   ],
   "source": [
    "F(x,y) = [x+y-3 x^2 + y^2 - 9];\n",
    "J(x,y) = [1 1; 2*x 2*y];\n",
    "x_k = [1;5];\n",
    "delta = 0.05;\n",
    "epsilon = 0.05;\n",
    "\n",
    "nonlinear_newton(F,J,x_k,delta,epsilon);"
   ]
  },
  {
   "cell_type": "code",
   "execution_count": 64,
   "id": "5228e09b-6521-4ff6-bd3e-e3b4e3c8a84f",
   "metadata": {},
   "outputs": [
    {
     "ename": "LoadError",
     "evalue": "MethodError: no method matching F(::Int64)\n\u001b[0mClosest candidates are:\n\u001b[0m  F(::Any, \u001b[91m::Any\u001b[39m) at In[59]:1",
     "output_type": "error",
     "traceback": [
      "MethodError: no method matching F(::Int64)\n\u001b[0mClosest candidates are:\n\u001b[0m  F(::Any, \u001b[91m::Any\u001b[39m) at In[59]:1",
      "",
      "Stacktrace:",
      " [1] _broadcast_getindex_evalf",
      "   @ ./broadcast.jl:648 [inlined]",
      " [2] _broadcast_getindex",
      "   @ ./broadcast.jl:621 [inlined]",
      " [3] getindex",
      "   @ ./broadcast.jl:575 [inlined]",
      " [4] copy",
      "   @ ./broadcast.jl:922 [inlined]",
      " [5] materialize(bc::Base.Broadcast.Broadcasted{Base.Broadcast.DefaultArrayStyle{1}, Nothing, typeof(F), Tuple{Vector{Int64}}})",
      "   @ Base.Broadcast ./broadcast.jl:883",
      " [6] top-level scope",
      "   @ In[64]:1",
      " [7] eval",
      "   @ ./boot.jl:360 [inlined]",
      " [8] include_string(mapexpr::typeof(REPL.softscope), mod::Module, code::String, filename::String)",
      "   @ Base ./loading.jl:1116"
     ]
    }
   ],
   "source": [
    "Fk = F.(x_k);"
   ]
  },
  {
   "cell_type": "code",
   "execution_count": null,
   "id": "507ed15a-7af7-4dfb-bc39-893e0ec84714",
   "metadata": {},
   "outputs": [],
   "source": []
  }
 ],
 "metadata": {
  "kernelspec": {
   "display_name": "Julia 1.6.3",
   "language": "julia",
   "name": "julia-1.6"
  },
  "language_info": {
   "file_extension": ".jl",
   "mimetype": "application/julia",
   "name": "julia",
   "version": "1.6.3"
  }
 },
 "nbformat": 4,
 "nbformat_minor": 5
}
